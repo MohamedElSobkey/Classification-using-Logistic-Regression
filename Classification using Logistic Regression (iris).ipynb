{
 "cells": [
  {
   "cell_type": "code",
   "execution_count": 9,
   "id": "feb5830f",
   "metadata": {},
   "outputs": [],
   "source": [
    "from sklearn.linear_model import LogisticRegression\n",
    "from sklearn import datasets\n",
    "from sklearn.preprocessing import StandardScaler #0 to 1\n"
   ]
  },
  {
   "cell_type": "code",
   "execution_count": 10,
   "id": "d54f11b8",
   "metadata": {},
   "outputs": [],
   "source": [
    "iris = datasets.load_iris()\n",
    "X = iris.data\n",
    "y = iris.target"
   ]
  },
  {
   "cell_type": "code",
   "execution_count": 11,
   "id": "3e7eba9c",
   "metadata": {},
   "outputs": [],
   "source": [
    "scaler = StandardScaler()\n",
    "x_std = scaler.fit_transform(X)"
   ]
  },
  {
   "cell_type": "code",
   "execution_count": 14,
   "id": "d312ca7e",
   "metadata": {},
   "outputs": [],
   "source": [
    "clf = LogisticRegression(multi_class = \"ovr\", random_state = 0) # ovr refers to one versus all (one versus reset) to make multiclasses"
   ]
  },
  {
   "cell_type": "code",
   "execution_count": 15,
   "id": "cf51c919",
   "metadata": {},
   "outputs": [],
   "source": [
    "model  = clf.fit(x_std, y)"
   ]
  },
  {
   "cell_type": "code",
   "execution_count": 16,
   "id": "8597ec7f",
   "metadata": {},
   "outputs": [],
   "source": [
    "n = [[4.9 , 3, 1.4 ,0.2 ]] # values of thetas"
   ]
  },
  {
   "cell_type": "code",
   "execution_count": 17,
   "id": "3b0bf688",
   "metadata": {},
   "outputs": [
    {
     "data": {
      "text/plain": [
       "array([2])"
      ]
     },
     "execution_count": 17,
     "metadata": {},
     "output_type": "execute_result"
    }
   ],
   "source": [
    "model.predict(n)"
   ]
  },
  {
   "cell_type": "code",
   "execution_count": 19,
   "id": "4bfcb85a",
   "metadata": {},
   "outputs": [
    {
     "data": {
      "text/plain": [
       "array([[0.00281441, 0.10030894, 0.89687665]])"
      ]
     },
     "execution_count": 19,
     "metadata": {},
     "output_type": "execute_result"
    }
   ],
   "source": [
    "model.predict_proba(n)"
   ]
  },
  {
   "cell_type": "code",
   "execution_count": null,
   "id": "52e8617e",
   "metadata": {},
   "outputs": [],
   "source": []
  }
 ],
 "metadata": {
  "kernelspec": {
   "display_name": "Python 3 (ipykernel)",
   "language": "python",
   "name": "python3"
  },
  "language_info": {
   "codemirror_mode": {
    "name": "ipython",
    "version": 3
   },
   "file_extension": ".py",
   "mimetype": "text/x-python",
   "name": "python",
   "nbconvert_exporter": "python",
   "pygments_lexer": "ipython3",
   "version": "3.9.13"
  }
 },
 "nbformat": 4,
 "nbformat_minor": 5
}
